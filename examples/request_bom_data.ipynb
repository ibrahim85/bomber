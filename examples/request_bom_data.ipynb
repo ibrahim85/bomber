{
 "cells": [
  {
   "cell_type": "code",
   "execution_count": null,
   "metadata": {
    "collapsed": false
   },
   "outputs": [],
   "source": [
    "import bomber\n",
    "\n",
    "# Load a dataset - print bomber.measurements.DATASETS to see\n",
    "# available values for dataset argument\n",
    "geotiff = bomber.get_measurements(dataset='solar', year=2014, month=1)"
   ]
  },
  {
   "cell_type": "code",
   "execution_count": null,
   "metadata": {
    "collapsed": false
   },
   "outputs": [],
   "source": [
    "bomber.measurements.DATASETS"
   ]
  },
  {
   "cell_type": "code",
   "execution_count": null,
   "metadata": {
    "collapsed": false
   },
   "outputs": [],
   "source": [
    "geotiff = bomber.get_measurements(dataset='solar', year=2014, month=1)"
   ]
  },
  {
   "cell_type": "code",
   "execution_count": null,
   "metadata": {
    "collapsed": false
   },
   "outputs": [],
   "source": [
    "with rasterio.drivers():\n",
    "    with rasterio.open(geotiff) as src:\n",
    "        figure(figsize=(11, 11))\n",
    "        data = numpy.ma.MaskedArray(\n",
    "            data=src.read(1), \n",
    "            mask=src.read_masks(1))\n",
    "        imshow(data, cmap=get_cmap('coolwarm'))\n",
    "        gca().set_aspect('equal')\n",
    "        gca().set_axis_off()"
   ]
  },
  {
   "cell_type": "code",
   "execution_count": null,
   "metadata": {
    "collapsed": true
   },
   "outputs": [],
   "source": []
  }
 ],
 "metadata": {
  "kernelspec": {
   "display_name": "Python 3",
   "language": "python",
   "name": "python3"
  },
  "language_info": {
   "codemirror_mode": {
    "name": "ipython",
    "version": 3
   },
   "file_extension": ".py",
   "mimetype": "text/x-python",
   "name": "python",
   "nbconvert_exporter": "python",
   "pygments_lexer": "ipython3",
   "version": "3.4.3"
  }
 },
 "nbformat": 4,
 "nbformat_minor": 0
}
